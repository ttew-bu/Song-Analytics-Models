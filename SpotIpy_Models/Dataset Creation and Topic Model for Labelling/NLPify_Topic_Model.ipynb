{
 "cells": [
  {
   "cell_type": "code",
   "execution_count": 1,
   "source": [
    "import os\r\n",
    "import spotipy\r\n",
    "import pandas as pd\r\n",
    "import numpy as np\r\n",
    "import re\r\n",
    "import nltk\r\n",
    "import matplotlib as mpl\r\n",
    "import matplotlib.pyplot as plt\r\n",
    "import gensim\r\n",
    "import time \r\n",
    "from gensim.corpora import Dictionary\r\n",
    "from gensim.models import LdaMulticore\r\n",
    "from gensim.models import CoherenceModel\r\n",
    "from nltk.corpus import stopwords\r\n",
    "from nltk.stem import PorterStemmer"
   ],
   "outputs": [
    {
     "output_type": "stream",
     "name": "stderr",
     "text": [
      "C:\\Users\\trist\\anaconda3\\lib\\site-packages\\gensim\\similarities\\__init__.py:15: UserWarning: The gensim.similarities.levenshtein submodule is disabled, because the optional Levenshtein package <https://pypi.org/project/python-Levenshtein/> is unavailable. Install Levenhstein (e.g. `pip install python-Levenshtein`) to suppress this warning.\n",
      "  warnings.warn(msg)\n"
     ]
    }
   ],
   "metadata": {}
  },
  {
   "cell_type": "markdown",
   "source": [
    "## Create a dataframe to work with and collect genre data from Spotify API so we can reduce it down to labels for the classifier"
   ],
   "metadata": {}
  },
  {
   "cell_type": "code",
   "execution_count": 145,
   "source": [
    "df = pd.read_csv('C:/Users/trist/OneDrive/Desktop/SpotIpy_Models/All Data/Processed Data/genres_41k.csv')\r\n",
    "#remove unnecessary columns"
   ],
   "outputs": [],
   "metadata": {}
  },
  {
   "cell_type": "code",
   "execution_count": 146,
   "source": [
    "#Create a df to feed into the API to get the genres\r\n",
    "df = df.loc[:,['artist',\"track\",\"uri\",'genres']]\r\n",
    "df[\"uri\"].astype('string')\r\n",
    "df = df[df['genres']!=\"[]\"]\r\n",
    "df = df.reset_index(drop=True)"
   ],
   "outputs": [],
   "metadata": {}
  },
  {
   "cell_type": "code",
   "execution_count": 5,
   "source": [
    "#  #Sign into Spotify API\r\n",
    "# from spotipy.oauth2 import SpotifyClientCredentials\r\n",
    "\r\n",
    "# #Store values for API info\r\n",
    "# client_id = your client id\r\n",
    "# client_secret = your client secret"
   ],
   "outputs": [],
   "metadata": {}
  },
  {
   "cell_type": "code",
   "execution_count": 6,
   "source": [
    "#Number of songs pulled at a time\r\n",
    "#Utilizing chunk size and time.sleep allowed for less timeouts during the data collection process and reduced the need to keep\r\n",
    "#running the script\r\n",
    "chunksize = 50\r\n",
    "\r\n",
    "#What song you are starting this run on \r\n",
    "song_index = 0\r\n",
    "\r\n",
    "#Counter for use within the loop\r\n",
    "count = 0\r\n",
    "\r\n",
    "#Iterate over the number of songs in the raw dataframe\r\n",
    "for n in range(0,len(df),chunksize):\r\n",
    "    \r\n",
    "    #Instantiate Spotipy object via login\r\n",
    "    client_credentials_manager = SpotifyClientCredentials(client_id,client_secret)\r\n",
    "    sp = spotipy.Spotify(client_credentials_manager=client_credentials_manager)\r\n",
    "\r\n",
    "    #Define the start point for each chunk relative to chunk size and # rounds completed \r\n",
    "    startpoint = song_index + (count * chunksize)\r\n",
    "\r\n",
    "    #Create a dataframe based on the current start point and chunk size\r\n",
    "    df_chunk = pd.read_csv('C:/Users/trist/OneDrive/Desktop/SpotIpy_Models/All Data/All_Years_Songs.csv',\r\n",
    "                           nrows=chunksize,skiprows=range(1,startpoint),header=0)\r\n",
    "    \r\n",
    "    #For each item in the chunk\r\n",
    "    for x in range(0,len(df_chunk)):\r\n",
    "\r\n",
    "        #Define the attributes of the song\r\n",
    "        uri = df_chunk['uri'][x]\r\n",
    "        song = sp.track(uri)\r\n",
    "        track_artists = song['artists']\r\n",
    "        \r\n",
    "        #Create a list to store all the genres attributed to the song's artists\r\n",
    "        song_genres = []\r\n",
    "        \r\n",
    "        #Iterate over the artist list and pull their genres in a loop\r\n",
    "        for artist in track_artists:\r\n",
    "            \r\n",
    "            #Get the artist object\r\n",
    "            artist_data = sp.artist(artist['id'])\r\n",
    "        \r\n",
    "            #Add the genres from each artist to the song's raw genre category\r\n",
    "            song_genres += artist_data['genres']\r\n",
    "        \r\n",
    "        #Add the new genre information to the given row in the df\r\n",
    "        df_chunk.loc[df_chunk.index[x], 'genres'] = song_genres\r\n",
    "        \r\n",
    "    #Add one and move onto the next chunk \r\n",
    "    count +=1    \r\n",
    "    df_chunk.to_csv(\"genres.csv\",mode='a',header=False,encoding=\"utf-8\")\r\n",
    "    time.sleep(5)"
   ],
   "outputs": [],
   "metadata": {}
  },
  {
   "cell_type": "code",
   "execution_count": 7,
   "source": [
    "#Since the other run stores the data in a csv in the event of a kernel dying or another techincal issue,\r\n",
    "#use the csv to redefine df and move into the topic modeling phase\r\n",
    "\r\n",
    "df = pd.read_csv('C:/Users/trist/OneDrive/Desktop/SpotIpy_Models/All Data/Processed Data/genres.csv')"
   ],
   "outputs": [],
   "metadata": {}
  },
  {
   "cell_type": "markdown",
   "source": [
    "## Once the genre data has been collected from Spotify, use topic modeling to create a few labels that we can run the classifier on "
   ],
   "metadata": {}
  },
  {
   "cell_type": "code",
   "execution_count": 8,
   "source": [
    "#Check shape after quick cleaning process\r\n",
    "df.head()"
   ],
   "outputs": [
    {
     "output_type": "execute_result",
     "data": {
      "text/plain": [
       "              artist                     track  \\\n",
       "0  Montgomery Gentry                 Lucky Man   \n",
       "1       Pretty Ricky            On The Hotline   \n",
       "2         Candlemass        Clouds Of Dementia   \n",
       "3      Zwartketterij  Heavy Metal, Raise Hell!   \n",
       "4   Billy Currington           I Got A Feelin'   \n",
       "\n",
       "                                    uri  \\\n",
       "0  spotify:track:4GiXBCUF7H6YfNQsnBRIzl   \n",
       "1  spotify:track:1zyqZONW985Cs4osz9wlsu   \n",
       "2  spotify:track:6cHZf7RbxXCKwEkgAZT4mY   \n",
       "3  spotify:track:2IjBPp2vMeX7LggzRN3iSX   \n",
       "4  spotify:track:1tF370eYXUcWwkIvaq3IGz   \n",
       "\n",
       "                                              genres  \n",
       "0  ['contemporary country', 'country', 'country r...  \n",
       "1  ['dance pop', 'hip hop', 'hip pop', 'miami hip...  \n",
       "2  ['death metal', 'doom metal', 'epic doom', 'ha...  \n",
       "3                              ['dutch black metal']  \n",
       "4  ['contemporary country', 'country', 'country r...  "
      ],
      "text/html": [
       "<div>\n",
       "<style scoped>\n",
       "    .dataframe tbody tr th:only-of-type {\n",
       "        vertical-align: middle;\n",
       "    }\n",
       "\n",
       "    .dataframe tbody tr th {\n",
       "        vertical-align: top;\n",
       "    }\n",
       "\n",
       "    .dataframe thead th {\n",
       "        text-align: right;\n",
       "    }\n",
       "</style>\n",
       "<table border=\"1\" class=\"dataframe\">\n",
       "  <thead>\n",
       "    <tr style=\"text-align: right;\">\n",
       "      <th></th>\n",
       "      <th>artist</th>\n",
       "      <th>track</th>\n",
       "      <th>uri</th>\n",
       "      <th>genres</th>\n",
       "    </tr>\n",
       "  </thead>\n",
       "  <tbody>\n",
       "    <tr>\n",
       "      <th>0</th>\n",
       "      <td>Montgomery Gentry</td>\n",
       "      <td>Lucky Man</td>\n",
       "      <td>spotify:track:4GiXBCUF7H6YfNQsnBRIzl</td>\n",
       "      <td>['contemporary country', 'country', 'country r...</td>\n",
       "    </tr>\n",
       "    <tr>\n",
       "      <th>1</th>\n",
       "      <td>Pretty Ricky</td>\n",
       "      <td>On The Hotline</td>\n",
       "      <td>spotify:track:1zyqZONW985Cs4osz9wlsu</td>\n",
       "      <td>['dance pop', 'hip hop', 'hip pop', 'miami hip...</td>\n",
       "    </tr>\n",
       "    <tr>\n",
       "      <th>2</th>\n",
       "      <td>Candlemass</td>\n",
       "      <td>Clouds Of Dementia</td>\n",
       "      <td>spotify:track:6cHZf7RbxXCKwEkgAZT4mY</td>\n",
       "      <td>['death metal', 'doom metal', 'epic doom', 'ha...</td>\n",
       "    </tr>\n",
       "    <tr>\n",
       "      <th>3</th>\n",
       "      <td>Zwartketterij</td>\n",
       "      <td>Heavy Metal, Raise Hell!</td>\n",
       "      <td>spotify:track:2IjBPp2vMeX7LggzRN3iSX</td>\n",
       "      <td>['dutch black metal']</td>\n",
       "    </tr>\n",
       "    <tr>\n",
       "      <th>4</th>\n",
       "      <td>Billy Currington</td>\n",
       "      <td>I Got A Feelin'</td>\n",
       "      <td>spotify:track:1tF370eYXUcWwkIvaq3IGz</td>\n",
       "      <td>['contemporary country', 'country', 'country r...</td>\n",
       "    </tr>\n",
       "  </tbody>\n",
       "</table>\n",
       "</div>"
      ]
     },
     "metadata": {},
     "execution_count": 8
    }
   ],
   "metadata": {}
  },
  {
   "cell_type": "markdown",
   "source": [
    "Begin the cleaning process for the genres; at the end, you should convert the string (which becomes a list) of genres to one \"outcome\""
   ],
   "metadata": {}
  },
  {
   "cell_type": "markdown",
   "source": [
    "Begin the lyric cleaning process; strip the lyrics of brackets and then process line breaks."
   ],
   "metadata": {}
  },
  {
   "cell_type": "code",
   "execution_count": 9,
   "source": [
    "df['genres'].head()"
   ],
   "outputs": [
    {
     "output_type": "execute_result",
     "data": {
      "text/plain": [
       "0    ['contemporary country', 'country', 'country r...\n",
       "1    ['dance pop', 'hip hop', 'hip pop', 'miami hip...\n",
       "2    ['death metal', 'doom metal', 'epic doom', 'ha...\n",
       "3                                ['dutch black metal']\n",
       "4    ['contemporary country', 'country', 'country r...\n",
       "Name: genres, dtype: object"
      ]
     },
     "metadata": {},
     "execution_count": 9
    }
   ],
   "metadata": {}
  },
  {
   "cell_type": "code",
   "execution_count": 147,
   "source": [
    "#Use LDA topic model to figure out the number of \"genres\" present in our dataset\r\n",
    "tokenized_genres=[]\r\n",
    "for row in df['genres']:\r\n",
    "    \r\n",
    "        \r\n",
    "    #Cut out punctuation\r\n",
    "    row = re.sub(r'[^\\w\\s]','',row)\r\n",
    "    \r\n",
    "    #Convert hip hop to hiphop since those words would be split in tokenization otherwise    \r\n",
    "    row = re.sub(r'hip hop', 'hiphop',row)\r\n",
    "        \r\n",
    "    #Convert all upper-case words to lower-case\r\n",
    "    row = row.lower()\r\n",
    "    \r\n",
    "    #Tokenize the genres\r\n",
    "    row = nltk.word_tokenize(row)\r\n",
    "        \r\n",
    "    #Stem the words    \r\n",
    "    row = [PorterStemmer().stem(item) for item in row]\r\n",
    "    \r\n",
    "    #Append to the list\r\n",
    "    tokenized_genres.append(row)\r\n",
    "\r\n",
    "#Add column with our tokens for LDA\r\n",
    "df['tokenized_genres'] = tokenized_genres"
   ],
   "outputs": [],
   "metadata": {}
  },
  {
   "cell_type": "code",
   "execution_count": 11,
   "source": [
    "#Visualize what tokenized genres and the rest of our DF looks like\r\n",
    "df.head()"
   ],
   "outputs": [
    {
     "output_type": "execute_result",
     "data": {
      "text/plain": [
       "              artist                     track  \\\n",
       "0  Montgomery Gentry                 Lucky Man   \n",
       "1       Pretty Ricky            On The Hotline   \n",
       "2         Candlemass        Clouds Of Dementia   \n",
       "3      Zwartketterij  Heavy Metal, Raise Hell!   \n",
       "4   Billy Currington           I Got A Feelin'   \n",
       "\n",
       "                                    uri  \\\n",
       "0  spotify:track:4GiXBCUF7H6YfNQsnBRIzl   \n",
       "1  spotify:track:1zyqZONW985Cs4osz9wlsu   \n",
       "2  spotify:track:6cHZf7RbxXCKwEkgAZT4mY   \n",
       "3  spotify:track:2IjBPp2vMeX7LggzRN3iSX   \n",
       "4  spotify:track:1tF370eYXUcWwkIvaq3IGz   \n",
       "\n",
       "                                              genres  \\\n",
       "0  ['contemporary country', 'country', 'country r...   \n",
       "1  ['dance pop', 'hip hop', 'hip pop', 'miami hip...   \n",
       "2  ['death metal', 'doom metal', 'epic doom', 'ha...   \n",
       "3                              ['dutch black metal']   \n",
       "4  ['contemporary country', 'country', 'country r...   \n",
       "\n",
       "                                    tokenized_genres  \n",
       "0  [contemporari, countri, countri, countri, road...  \n",
       "1  [danc, pop, hiphop, hip, pop, miami, hiphop, p...  \n",
       "2  [death, metal, doom, metal, epic, doom, hard, ...  \n",
       "3                              [dutch, black, metal]  \n",
       "4    [contemporari, countri, countri, countri, road]  "
      ],
      "text/html": [
       "<div>\n",
       "<style scoped>\n",
       "    .dataframe tbody tr th:only-of-type {\n",
       "        vertical-align: middle;\n",
       "    }\n",
       "\n",
       "    .dataframe tbody tr th {\n",
       "        vertical-align: top;\n",
       "    }\n",
       "\n",
       "    .dataframe thead th {\n",
       "        text-align: right;\n",
       "    }\n",
       "</style>\n",
       "<table border=\"1\" class=\"dataframe\">\n",
       "  <thead>\n",
       "    <tr style=\"text-align: right;\">\n",
       "      <th></th>\n",
       "      <th>artist</th>\n",
       "      <th>track</th>\n",
       "      <th>uri</th>\n",
       "      <th>genres</th>\n",
       "      <th>tokenized_genres</th>\n",
       "    </tr>\n",
       "  </thead>\n",
       "  <tbody>\n",
       "    <tr>\n",
       "      <th>0</th>\n",
       "      <td>Montgomery Gentry</td>\n",
       "      <td>Lucky Man</td>\n",
       "      <td>spotify:track:4GiXBCUF7H6YfNQsnBRIzl</td>\n",
       "      <td>['contemporary country', 'country', 'country r...</td>\n",
       "      <td>[contemporari, countri, countri, countri, road...</td>\n",
       "    </tr>\n",
       "    <tr>\n",
       "      <th>1</th>\n",
       "      <td>Pretty Ricky</td>\n",
       "      <td>On The Hotline</td>\n",
       "      <td>spotify:track:1zyqZONW985Cs4osz9wlsu</td>\n",
       "      <td>['dance pop', 'hip hop', 'hip pop', 'miami hip...</td>\n",
       "      <td>[danc, pop, hiphop, hip, pop, miami, hiphop, p...</td>\n",
       "    </tr>\n",
       "    <tr>\n",
       "      <th>2</th>\n",
       "      <td>Candlemass</td>\n",
       "      <td>Clouds Of Dementia</td>\n",
       "      <td>spotify:track:6cHZf7RbxXCKwEkgAZT4mY</td>\n",
       "      <td>['death metal', 'doom metal', 'epic doom', 'ha...</td>\n",
       "      <td>[death, metal, doom, metal, epic, doom, hard, ...</td>\n",
       "    </tr>\n",
       "    <tr>\n",
       "      <th>3</th>\n",
       "      <td>Zwartketterij</td>\n",
       "      <td>Heavy Metal, Raise Hell!</td>\n",
       "      <td>spotify:track:2IjBPp2vMeX7LggzRN3iSX</td>\n",
       "      <td>['dutch black metal']</td>\n",
       "      <td>[dutch, black, metal]</td>\n",
       "    </tr>\n",
       "    <tr>\n",
       "      <th>4</th>\n",
       "      <td>Billy Currington</td>\n",
       "      <td>I Got A Feelin'</td>\n",
       "      <td>spotify:track:1tF370eYXUcWwkIvaq3IGz</td>\n",
       "      <td>['contemporary country', 'country', 'country r...</td>\n",
       "      <td>[contemporari, countri, countri, countri, road]</td>\n",
       "    </tr>\n",
       "  </tbody>\n",
       "</table>\n",
       "</div>"
      ]
     },
     "metadata": {},
     "execution_count": 11
    }
   ],
   "metadata": {}
  },
  {
   "cell_type": "code",
   "execution_count": 12,
   "source": [
    "#Built dict for LDA and determine appropriate number of genres\r\n",
    "genre_dict = Dictionary(df['tokenized_genres'])\r\n",
    "\r\n",
    "#Create corpus with word occurances\r\n",
    "genre_corpus = [genre_dict.doc2bow(row) for row in df['tokenized_genres']]"
   ],
   "outputs": [],
   "metadata": {}
  },
  {
   "cell_type": "code",
   "execution_count": 85,
   "source": [
    "#Create list to track our coherences as n grows \r\n",
    "coherence_list = []\r\n",
    "\r\n",
    "#for potential n topics in a range, run a LDA and Coherence Model to determine appropriate alpha/eta to account for sparsity \r\n",
    "for topic_count in range(1,25):\r\n",
    "    #Minimize eta and alpha to reduce long tail on topics, which should help define genres more cleanly\r\n",
    "    lda_model = LdaMulticore(genre_corpus, num_topics = topic_count, id2word = genre_dict, \r\n",
    "                             chunksize=10000, passes=25,random_state=42,iterations=15,workers=7,\r\n",
    "                            minimum_probability=0.0,eta=.0000001,alpha=.0000001)\r\n",
    "    \r\n",
    "    #Define the coherence model to visualize each version of lda in the loop with the number of topics\r\n",
    "    coherence_model = CoherenceModel(model=lda_model,corpus=genre_corpus,dictionary=genre_dict,coherence='u_mass')\r\n",
    "    \r\n",
    "    #Get the model's coherence score (the lower the number the better given the u-mass metric)\r\n",
    "    coherence = coherence_model.get_coherence()\r\n",
    "    \r\n",
    "    #Add the coherence to the list\r\n",
    "    coherence_list.append(coherence)"
   ],
   "outputs": [
    {
     "output_type": "stream",
     "name": "stdout",
     "text": [
      "[-4.182235924395031, -5.886848897802817, -7.081036612930792, -6.039945273125813, -5.626952420683326, -6.448211060854903, -6.8107419504535125, -7.189246099296099, -6.8557313627881, -6.801947725812444, -6.852326613345467, -6.441141410047133, -7.574376226803053, -6.6102185145088965, -7.237089326716254, -6.5629441372258945, -6.7209067997914715, -6.816075855734052, -7.3759659594221185, -7.133970702490158, -6.9984923847320655, -7.441700430000815, -7.717026276645205, -7.700422798127977]\n"
     ]
    }
   ],
   "metadata": {}
  },
  {
   "cell_type": "code",
   "execution_count": 86,
   "source": [
    "#Plot the coherence list as a quick line chart\r\n",
    "plt.plot(coherence_list)\r\n",
    "plt.show()"
   ],
   "outputs": [
    {
     "output_type": "display_data",
     "data": {
      "text/plain": [
       "<Figure size 432x288 with 1 Axes>"
      ],
      "image/png": "[encoded data removed]"
     },
     "metadata": {
      "needs_background": "light"
     }
    }
   ],
   "metadata": {
    "scrolled": true
   }
  },
  {
   "cell_type": "code",
   "execution_count": 113,
   "source": [
    "#Create a tuned model that runs off a reasonable # topics\r\n",
    "#This was originally automated to be the min of the chart above, but changed because that wouldn't be granular enough\r\n",
    "tuned_lda = LdaMulticore(genre_corpus, num_topics = 23, \r\n",
    "                         id2word = genre_dict, chunksize=10000, passes=25,\r\n",
    "                         random_state=42,iterations=15, workers=7, minimum_probability=0.0,eta=.0000001,alpha=.0000001)"
   ],
   "outputs": [],
   "metadata": {}
  },
  {
   "cell_type": "code",
   "execution_count": 114,
   "source": [
    "#Check out the contents of each topic based on the determined number of topics\r\n",
    "tuned_lda.show_topics(num_topics=23)"
   ],
   "outputs": [
    {
     "output_type": "execute_result",
     "data": {
      "text/plain": [
       "[(0,\n",
       "  '0.151*\"rock\" + 0.108*\"folk\" + 0.099*\"experiment\" + 0.051*\"industri\" + 0.039*\"art\" + 0.025*\"american\" + 0.024*\"psychedel\" + 0.018*\"british\" + 0.018*\"dark\" + 0.018*\"outsid\"'),\n",
       " (1,\n",
       "  '0.250*\"punk\" + 0.073*\"hardcor\" + 0.044*\"emo\" + 0.035*\"rock\" + 0.027*\"pub\" + 0.025*\"flamenco\" + 0.024*\"theme\" + 0.020*\"ska\" + 0.019*\"posthardcor\" + 0.015*\"screamo\"'),\n",
       " (2,\n",
       "  '0.269*\"rap\" + 0.232*\"hiphop\" + 0.081*\"pop\" + 0.057*\"trap\" + 0.043*\"southern\" + 0.037*\"gangster\" + 0.023*\"coast\" + 0.021*\"atl\" + 0.020*\"south\" + 0.017*\"dirti\"'),\n",
       " (3,\n",
       "  '0.299*\"soul\" + 0.091*\"funk\" + 0.088*\"motown\" + 0.073*\"classic\" + 0.071*\"quiet\" + 0.071*\"storm\" + 0.047*\"southern\" + 0.046*\"disco\" + 0.027*\"blue\" + 0.020*\"postdisco\"'),\n",
       " (4,\n",
       "  '0.210*\"pop\" + 0.094*\"build\" + 0.094*\"brill\" + 0.072*\"bubblegum\" + 0.070*\"rockandrol\" + 0.053*\"folk\" + 0.048*\"rock\" + 0.044*\"rockabilli\" + 0.039*\"classic\" + 0.034*\"adult\"'),\n",
       " (5,\n",
       "  '0.122*\"latin\" + 0.074*\"music\" + 0.068*\"black\" + 0.061*\"librari\" + 0.047*\"spytrack\" + 0.034*\"spanish\" + 0.034*\"mexican\" + 0.033*\"espanol\" + 0.033*\"en\" + 0.028*\"pop\"'),\n",
       " (6,\n",
       "  '0.159*\"adult\" + 0.159*\"standard\" + 0.074*\"loung\" + 0.068*\"mellow\" + 0.067*\"gold\" + 0.067*\"pop\" + 0.048*\"soft\" + 0.048*\"easi\" + 0.048*\"listen\" + 0.044*\"rock\"'),\n",
       " (7,\n",
       "  '0.082*\"pop\" + 0.057*\"christian\" + 0.043*\"bollywood\" + 0.042*\"cancion\" + 0.042*\"filmi\" + 0.038*\"desi\" + 0.037*\"cantautor\" + 0.037*\"nueva\" + 0.036*\"ye\" + 0.035*\"worship\"'),\n",
       " (8,\n",
       "  '0.154*\"rock\" + 0.121*\"wave\" + 0.118*\"new\" + 0.090*\"pop\" + 0.046*\"art\" + 0.036*\"altern\" + 0.034*\"postpunk\" + 0.025*\"perman\" + 0.023*\"garag\" + 0.023*\"ambient\"'),\n",
       " (9,\n",
       "  '0.079*\"indi\" + 0.069*\"bolero\" + 0.058*\"salsa\" + 0.058*\"latin\" + 0.044*\"pop\" + 0.038*\"ranchera\" + 0.033*\"german\" + 0.032*\"mambo\" + 0.031*\"musica\" + 0.031*\"mariachi\"'),\n",
       " (10,\n",
       "  '0.478*\"pop\" + 0.148*\"danc\" + 0.074*\"postteen\" + 0.021*\"australian\" + 0.020*\"electropop\" + 0.014*\"neo\" + 0.013*\"indi\" + 0.012*\"canadian\" + 0.011*\"rock\" + 0.010*\"rap\"'),\n",
       " (11,\n",
       "  '0.217*\"bluegrass\" + 0.113*\"folk\" + 0.099*\"progress\" + 0.079*\"instrument\" + 0.070*\"oldtim\" + 0.054*\"gospel\" + 0.045*\"appalachian\" + 0.042*\"banjo\" + 0.040*\"tradit\" + 0.035*\"band\"'),\n",
       " (12,\n",
       "  '0.167*\"hous\" + 0.057*\"regga\" + 0.042*\"deep\" + 0.035*\"electro\" + 0.026*\"techno\" + 0.021*\"dub\" + 0.020*\"steadi\" + 0.020*\"edm\" + 0.019*\"hip\" + 0.018*\"tranc\"'),\n",
       " (13,\n",
       "  '0.182*\"pop\" + 0.122*\"contemporari\" + 0.117*\"rb\" + 0.114*\"urban\" + 0.054*\"hip\" + 0.052*\"swing\" + 0.052*\"new\" + 0.050*\"jack\" + 0.048*\"neo\" + 0.047*\"danc\"'),\n",
       " (14,\n",
       "  '0.229*\"classic\" + 0.119*\"soundtrack\" + 0.073*\"italian\" + 0.059*\"perform\" + 0.052*\"orchestra\" + 0.038*\"opera\" + 0.027*\"french\" + 0.026*\"vintag\" + 0.022*\"era\" + 0.022*\"orchestr\"'),\n",
       " (15,\n",
       "  '0.479*\"countri\" + 0.090*\"contemporari\" + 0.087*\"road\" + 0.078*\"rock\" + 0.038*\"modern\" + 0.025*\"dawn\" + 0.019*\"catala\" + 0.018*\"cantautor\" + 0.017*\"pop\" + 0.014*\"oklahoma\"'),\n",
       " (16,\n",
       "  '0.513*\"blue\" + 0.058*\"tradit\" + 0.058*\"rock\" + 0.047*\"electr\" + 0.037*\"countri\" + 0.030*\"acoust\" + 0.030*\"chicago\" + 0.030*\"modern\" + 0.018*\"harmonica\" + 0.018*\"soul\"'),\n",
       " (17,\n",
       "  '0.062*\"electronica\" + 0.061*\"jazz\" + 0.056*\"nu\" + 0.055*\"beat\" + 0.047*\"age\" + 0.043*\"hop\" + 0.042*\"hardcor\" + 0.036*\"music\" + 0.036*\"trip\" + 0.034*\"space\"'),\n",
       " (18,\n",
       "  '0.451*\"rock\" + 0.068*\"classic\" + 0.055*\"folk\" + 0.050*\"mellow\" + 0.046*\"gold\" + 0.042*\"soft\" + 0.041*\"album\" + 0.026*\"countri\" + 0.022*\"hard\" + 0.018*\"psychedel\"'),\n",
       " (19,\n",
       "  '0.445*\"jazz\" + 0.043*\"cool\" + 0.040*\"fusion\" + 0.032*\"free\" + 0.031*\"contemporari\" + 0.028*\"hard\" + 0.028*\"bebop\" + 0.028*\"bop\" + 0.023*\"soul\" + 0.022*\"funk\"'),\n",
       " (20,\n",
       "  '0.386*\"metal\" + 0.051*\"rock\" + 0.042*\"death\" + 0.035*\"thrash\" + 0.034*\"altern\" + 0.031*\"power\" + 0.025*\"hard\" + 0.020*\"nu\" + 0.019*\"melod\" + 0.019*\"german\"'),\n",
       " (21,\n",
       "  '0.110*\"french\" + 0.074*\"pop\" + 0.047*\"band\" + 0.045*\"chanson\" + 0.031*\"comic\" + 0.030*\"boy\" + 0.027*\"rock\" + 0.026*\"guarda\" + 0.026*\"jovem\" + 0.022*\"poetri\"'),\n",
       " (22,\n",
       "  '0.131*\"nova\" + 0.127*\"mpb\" + 0.124*\"bossa\" + 0.097*\"brazilian\" + 0.087*\"samba\" + 0.047*\"violao\" + 0.042*\"guarda\" + 0.040*\"tropicalia\" + 0.033*\"velha\" + 0.028*\"funk\"')]"
      ]
     },
     "metadata": {},
     "execution_count": 114
    }
   ],
   "metadata": {}
  },
  {
   "cell_type": "code",
   "execution_count": 129,
   "source": [
    "#Define a list of categories to refilter based on a glance at the above output\r\n",
    "refilter_list = [6,7,9,14,17,21]"
   ],
   "outputs": [],
   "metadata": {}
  },
  {
   "cell_type": "code",
   "execution_count": 148,
   "source": [
    "from operator import itemgetter\r\n",
    "category_labels = []\r\n",
    "\r\n",
    "#Use len instead of df['tokenized_genres'] to use numerical indexing instead of using an index function\r\n",
    "for row in range(0,len(df)):\r\n",
    "    \r\n",
    "    #Define the probabilities of belonging to a category\r\n",
    "    distr = tuned_lda[genre_corpus[row]]\r\n",
    "    cat_label=(max(distr,key=itemgetter(1)))[0]\r\n",
    "    #See if we can refilter the categories for songs that landed on cut categories\r\n",
    "    try:\r\n",
    "        #If the label is on the cut list, refilter it\r\n",
    "        if cat_label in refilter_list:\r\n",
    "            #Create a variable for the second most prevalent category\r\n",
    "            secondary_tuple = sorted(distr,key=itemgetter(1))[-2]\r\n",
    "            #Account for the fact that it could be a very low number and filter out anythng under 1%\r\n",
    "            if secondary_tuple[1]<.01:\r\n",
    "                cat_label = \"CUT\"\r\n",
    "    #If there is only one result in the output (which occured during testing), create a case that will cut the song since \r\n",
    "    #it cannot get an assignment from elsewhere\r\n",
    "    except IndexError:\r\n",
    "        cat_label=\"CUT\"\r\n",
    "        \r\n",
    "    #Add the label to the list once it is sorted out\r\n",
    "    category_labels.append(cat_label)"
   ],
   "outputs": [],
   "metadata": {}
  },
  {
   "cell_type": "code",
   "execution_count": 149,
   "source": [
    "#Check our outputs and the distribution of the categories\r\n",
    "df['cat_numbers'] = category_labels\r\n",
    "\r\n",
    "df['cat_numbers'].value_counts()"
   ],
   "outputs": [
    {
     "output_type": "execute_result",
     "data": {
      "text/plain": [
       "CUT    6806\n",
       "18     4816\n",
       "3      3501\n",
       "4      2941\n",
       "8      2891\n",
       "2      2256\n",
       "15     2221\n",
       "10     2162\n",
       "20     2077\n",
       "19     1981\n",
       "0      1823\n",
       "6      1611\n",
       "1      1546\n",
       "12     1535\n",
       "13     1533\n",
       "22     1506\n",
       "5      1399\n",
       "14      942\n",
       "16      821\n",
       "9       770\n",
       "11      672\n",
       "7       543\n",
       "21      533\n",
       "17      333\n",
       "Name: cat_numbers, dtype: int64"
      ]
     },
     "metadata": {},
     "execution_count": 149
    }
   ],
   "metadata": {}
  },
  {
   "cell_type": "code",
   "execution_count": 156,
   "source": [
    "#Define a list of numbers and actual labels to convert into the final product for the predictive model\r\n",
    "replacement_tuples = [(12,'EDM'),([16,19],'Jazz'),(2,'Rap'),([3,13],'R&B'),([5,22],'Latin'),([4,10],'Pop'),\r\n",
    "                  ([11,15],'Country'),([0,1,18,20,8],'Rock')]\r\n",
    "\r\n",
    "#For each pair of labels and categories, change the number in the df to the label itself\r\n",
    "for pair in replacement_tuples:\r\n",
    "    \r\n",
    "    df['cat_numbers'].replace(replacement_tuples[0],replacement_tuples[1],inplace=True)\r\n",
    "\r\n",
    "\r\n",
    "#Filter out the cut list when done\r\n",
    "df['cat_numbers'].replace(refilter_list, \"CUT\",inplace=True)\r\n",
    "\r\n",
    "df.head()"
   ],
   "outputs": [
    {
     "output_type": "execute_result",
     "data": {
      "text/plain": [
       "              artist                     track cat_numbers\n",
       "0  Montgomery Gentry                 Lucky Man     Country\n",
       "1       Pretty Ricky            On The Hotline         Rap\n",
       "2         Candlemass        Clouds Of Dementia        Rock\n",
       "3      Zwartketterij  Heavy Metal, Raise Hell!        Rock\n",
       "4   Billy Currington           I Got A Feelin'     Country"
      ],
      "text/html": [
       "<div>\n",
       "<style scoped>\n",
       "    .dataframe tbody tr th:only-of-type {\n",
       "        vertical-align: middle;\n",
       "    }\n",
       "\n",
       "    .dataframe tbody tr th {\n",
       "        vertical-align: top;\n",
       "    }\n",
       "\n",
       "    .dataframe thead th {\n",
       "        text-align: right;\n",
       "    }\n",
       "</style>\n",
       "<table border=\"1\" class=\"dataframe\">\n",
       "  <thead>\n",
       "    <tr style=\"text-align: right;\">\n",
       "      <th></th>\n",
       "      <th>artist</th>\n",
       "      <th>track</th>\n",
       "      <th>cat_numbers</th>\n",
       "    </tr>\n",
       "  </thead>\n",
       "  <tbody>\n",
       "    <tr>\n",
       "      <th>0</th>\n",
       "      <td>Montgomery Gentry</td>\n",
       "      <td>Lucky Man</td>\n",
       "      <td>Country</td>\n",
       "    </tr>\n",
       "    <tr>\n",
       "      <th>1</th>\n",
       "      <td>Pretty Ricky</td>\n",
       "      <td>On The Hotline</td>\n",
       "      <td>Rap</td>\n",
       "    </tr>\n",
       "    <tr>\n",
       "      <th>2</th>\n",
       "      <td>Candlemass</td>\n",
       "      <td>Clouds Of Dementia</td>\n",
       "      <td>Rock</td>\n",
       "    </tr>\n",
       "    <tr>\n",
       "      <th>3</th>\n",
       "      <td>Zwartketterij</td>\n",
       "      <td>Heavy Metal, Raise Hell!</td>\n",
       "      <td>Rock</td>\n",
       "    </tr>\n",
       "    <tr>\n",
       "      <th>4</th>\n",
       "      <td>Billy Currington</td>\n",
       "      <td>I Got A Feelin'</td>\n",
       "      <td>Country</td>\n",
       "    </tr>\n",
       "  </tbody>\n",
       "</table>\n",
       "</div>"
      ]
     },
     "metadata": {},
     "execution_count": 156
    }
   ],
   "metadata": {}
  },
  {
   "cell_type": "code",
   "execution_count": 151,
   "source": [
    "#Since coefficients on #13 were extremely small above, drop the two songs that got put here by the LDA model\r\n",
    "df = df[df['cat_numbers'] != \"CUT\"]"
   ],
   "outputs": [],
   "metadata": {}
  },
  {
   "cell_type": "code",
   "execution_count": 152,
   "source": [
    "#As we can see, the genre method at hand right now does not quite word as presented given the long tail of genres and non-genre results\r\n",
    "df['cat_numbers'].value_counts()"
   ],
   "outputs": [
    {
     "output_type": "execute_result",
     "data": {
      "text/plain": [
       "Rock       13153\n",
       "Pop         5103\n",
       "R&B         5034\n",
       "Latin       2905\n",
       "Country     2893\n",
       "Jazz        2802\n",
       "Rap         2256\n",
       "EDM         1535\n",
       "Name: cat_numbers, dtype: int64"
      ]
     },
     "metadata": {},
     "execution_count": 152
    }
   ],
   "metadata": {}
  },
  {
   "cell_type": "code",
   "execution_count": 153,
   "source": [
    "#Check out our dataframe after genre conversion\r\n",
    "df = df.loc[:,['artist','track','cat_numbers']]\r\n",
    "df.head()"
   ],
   "outputs": [
    {
     "output_type": "execute_result",
     "data": {
      "text/plain": [
       "              artist                     track cat_numbers\n",
       "0  Montgomery Gentry                 Lucky Man     Country\n",
       "1       Pretty Ricky            On The Hotline         Rap\n",
       "2         Candlemass        Clouds Of Dementia        Rock\n",
       "3      Zwartketterij  Heavy Metal, Raise Hell!        Rock\n",
       "4   Billy Currington           I Got A Feelin'     Country"
      ],
      "text/html": [
       "<div>\n",
       "<style scoped>\n",
       "    .dataframe tbody tr th:only-of-type {\n",
       "        vertical-align: middle;\n",
       "    }\n",
       "\n",
       "    .dataframe tbody tr th {\n",
       "        vertical-align: top;\n",
       "    }\n",
       "\n",
       "    .dataframe thead th {\n",
       "        text-align: right;\n",
       "    }\n",
       "</style>\n",
       "<table border=\"1\" class=\"dataframe\">\n",
       "  <thead>\n",
       "    <tr style=\"text-align: right;\">\n",
       "      <th></th>\n",
       "      <th>artist</th>\n",
       "      <th>track</th>\n",
       "      <th>cat_numbers</th>\n",
       "    </tr>\n",
       "  </thead>\n",
       "  <tbody>\n",
       "    <tr>\n",
       "      <th>0</th>\n",
       "      <td>Montgomery Gentry</td>\n",
       "      <td>Lucky Man</td>\n",
       "      <td>Country</td>\n",
       "    </tr>\n",
       "    <tr>\n",
       "      <th>1</th>\n",
       "      <td>Pretty Ricky</td>\n",
       "      <td>On The Hotline</td>\n",
       "      <td>Rap</td>\n",
       "    </tr>\n",
       "    <tr>\n",
       "      <th>2</th>\n",
       "      <td>Candlemass</td>\n",
       "      <td>Clouds Of Dementia</td>\n",
       "      <td>Rock</td>\n",
       "    </tr>\n",
       "    <tr>\n",
       "      <th>3</th>\n",
       "      <td>Zwartketterij</td>\n",
       "      <td>Heavy Metal, Raise Hell!</td>\n",
       "      <td>Rock</td>\n",
       "    </tr>\n",
       "    <tr>\n",
       "      <th>4</th>\n",
       "      <td>Billy Currington</td>\n",
       "      <td>I Got A Feelin'</td>\n",
       "      <td>Country</td>\n",
       "    </tr>\n",
       "  </tbody>\n",
       "</table>\n",
       "</div>"
      ]
     },
     "metadata": {},
     "execution_count": 153
    }
   ],
   "metadata": {}
  },
  {
   "cell_type": "code",
   "execution_count": 154,
   "source": [
    "#Upload Topic Model Outputs to Flat Files for use in classifier\r\n",
    "df.to_csv(\"Labelled_Data.csv\",index=True)\r\n",
    "\r\n",
    "#This is not a perfect process and further iteration on the genres themselves could be done by changing the input data. \r\n",
    "#The purpose of this workbook/process now is to create a MVP of the web app. Further iteration could change some processes. "
   ],
   "outputs": [],
   "metadata": {}
  }
 ],
 "metadata": {
  "kernelspec": {
   "display_name": "Python 3",
   "language": "python",
   "name": "python3"
  },
  "language_info": {
   "codemirror_mode": {
    "name": "ipython",
    "version": 3
   },
   "file_extension": ".py",
   "mimetype": "text/x-python",
   "name": "python",
   "nbconvert_exporter": "python",
   "pygments_lexer": "ipython3",
   "version": "3.8.5"
  }
 },
 "nbformat": 4,
 "nbformat_minor": 4
}