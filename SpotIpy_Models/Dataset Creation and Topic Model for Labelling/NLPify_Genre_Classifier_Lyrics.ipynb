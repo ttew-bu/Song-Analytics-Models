{
 "cells": [
  {
   "cell_type": "code",
   "execution_count": 1,
   "source": [
    "import pandas as pd\r\n",
    "import numpy as np\r\n",
    "import re\r\n",
    "import nltk\r\n",
    "import matplotlib as mpl\r\n",
    "import matplotlib.pyplot as plt\r\n",
    "import seaborn as sns\r\n",
    "import gensim\r\n",
    "from gensim.corpora import Dictionary\r\n",
    "from gensim.models import LdaMulticore\r\n",
    "from gensim.models import CoherenceModel\r\n",
    "# nltk.download('punkt')\r\n",
    "# nltk.download('wordnet')\r\n",
    "#nltk.download('stopwords')\r\n",
    "from nltk.corpus import stopwords\r\n",
    "from nltk.stem import PorterStemmer\r\n",
    "from nltk.stem import WordNetLemmatizer\r\n",
    "from collections import Counter\r\n",
    "from sklearn.preprocessing import LabelEncoder\r\n",
    "from sklearn.model_selection import train_test_split\r\n",
    "from sklearn.model_selection import RandomizedSearchCV\r\n",
    "from sklearn.dummy import DummyClassifier\r\n",
    "from sklearn.linear_model import LogisticRegression\r\n",
    "from sklearn.ensemble import RandomForestClassifier\r\n",
    "from sklearn.neighbors import KNeighborsClassifier\r\n",
    "from sklearn.svm import LinearSVC\r\n",
    "from sklearn.metrics import accuracy_score, confusion_matrix\r\n",
    "from sklearn.model_selection import cross_val_score\r\n",
    "import warnings\r\n",
    "warnings.filterwarnings('ignore')"
   ],
   "outputs": [
    {
     "output_type": "stream",
     "name": "stderr",
     "text": [
      "C:\\Users\\trist\\anaconda3\\lib\\site-packages\\gensim\\similarities\\__init__.py:15: UserWarning: The gensim.similarities.levenshtein submodule is disabled, because the optional Levenshtein package <https://pypi.org/project/python-Levenshtein/> is unavailable. Install Levenhstein (e.g. `pip install python-Levenshtein`) to suppress this warning.\n",
      "  warnings.warn(msg)\n"
     ]
    }
   ],
   "metadata": {}
  },
  {
   "cell_type": "code",
   "execution_count": 2,
   "source": [
    "#Create a df based on the genres data collected in other steps and reduce it down to key columns\r\n",
    "df_genres = pd.read_csv('C:/Users/trist/Labelled_Data.csv')\r\n",
    "df_genres = df_genres.loc[:,['artist','track',\"cat_numbers\"]]\r\n",
    "\r\n",
    "#Create a df based on the lyrics data; do a similar reduction so that the lyrics and join keys are in the df\r\n",
    "df_lyrics = pd.read_csv('C:/Users/trist/OneDrive/Desktop/lyrics_new.csv')\r\n",
    "df_lyrics = df_lyrics.loc[:,['artist','track',\"lyrics\"]]"
   ],
   "outputs": [],
   "metadata": {}
  },
  {
   "cell_type": "code",
   "execution_count": 3,
   "source": [
    "#Merge the lyric and genre data based on the artist and track as keys using an inner join to only bring back matches\r\n",
    "df = pd.merge(df_genres,df_lyrics,on=['artist','track'],how='inner')\r\n",
    "\r\n",
    "#Remove the columns that have a null (this would be in the lyrics or genres section)\r\n",
    "df = df.dropna()"
   ],
   "outputs": [],
   "metadata": {}
  },
  {
   "cell_type": "code",
   "execution_count": 4,
   "source": [
    "#Potentially filter out the smaller categories until training data can be expanded to have even classes\r\n",
    "df = df[ (df['cat_numbers'] != 'Latin') & (df['cat_numbers'] != 'EDM') & (df['cat_numbers'] != 'Jazz')]\r\n",
    "\r\n",
    "#Check the counts of each genre in the dataset with lyrics\r\n",
    "df['cat_numbers'].value_counts()"
   ],
   "outputs": [
    {
     "output_type": "execute_result",
     "data": {
      "text/plain": [
       "Rock       378\n",
       "Country    225\n",
       "Pop        194\n",
       "Rap        173\n",
       "R&B        158\n",
       "Name: cat_numbers, dtype: int64"
      ]
     },
     "metadata": {},
     "execution_count": 4
    }
   ],
   "metadata": {}
  },
  {
   "cell_type": "code",
   "execution_count": 5,
   "source": [
    "# Remove extraneous text (e.g. embedcopy) and verse indicators\r\n",
    "new_lyrics = []\r\n",
    "\r\n",
    "#Iterate through the songs\r\n",
    "for row in df['lyrics']:\r\n",
    "    \r\n",
    "    #Convert to a string\r\n",
    "    row = str(row)\r\n",
    "    \r\n",
    "    #remove the embedshare string placed in Genius lyrics\r\n",
    "    row = row.replace(\"EmbedShare URLCopyEmbedCopy\",\"\")\r\n",
    "    \r\n",
    "    #sub the bracket expressions via regex, these are commonly something like [(Shakira) Verse 1:] which are not lyrics\r\n",
    "    row = re.sub(r\"[\\[].*?[\\]]\", \"\", row)\r\n",
    "    \r\n",
    "    #sub line breaks out via regex\r\n",
    "    row = re.sub(r\"\\n+\", \" \", row)\r\n",
    "    \r\n",
    "    #sub all other punctuation out via regex\r\n",
    "    row = re.sub(r'[^\\w\\s]', '', row)\r\n",
    "    \r\n",
    "    #Convert all upper-case words to lower-case\r\n",
    "    row = row.lower()\r\n",
    "    \r\n",
    "    #add new lyrics to the list that will replace the original column\r\n",
    "    new_lyrics.append(row)\r\n",
    "\r\n",
    "#Replace the lyrics column with the cleaned lyrics\r\n",
    "df['lyrics'] = new_lyrics"
   ],
   "outputs": [],
   "metadata": {}
  },
  {
   "cell_type": "code",
   "execution_count": 6,
   "source": [
    "#Check out the df after the first round of manipulation and before vectorizing the words using tfidf\r\n",
    "df.head()"
   ],
   "outputs": [
    {
     "output_type": "execute_result",
     "data": {
      "text/html": [
       "<div>\n",
       "<style scoped>\n",
       "    .dataframe tbody tr th:only-of-type {\n",
       "        vertical-align: middle;\n",
       "    }\n",
       "\n",
       "    .dataframe tbody tr th {\n",
       "        vertical-align: top;\n",
       "    }\n",
       "\n",
       "    .dataframe thead th {\n",
       "        text-align: right;\n",
       "    }\n",
       "</style>\n",
       "<table border=\"1\" class=\"dataframe\">\n",
       "  <thead>\n",
       "    <tr style=\"text-align: right;\">\n",
       "      <th></th>\n",
       "      <th>artist</th>\n",
       "      <th>track</th>\n",
       "      <th>cat_numbers</th>\n",
       "      <th>lyrics</th>\n",
       "    </tr>\n",
       "  </thead>\n",
       "  <tbody>\n",
       "    <tr>\n",
       "      <th>0</th>\n",
       "      <td>Montgomery Gentry</td>\n",
       "      <td>Lucky Man</td>\n",
       "      <td>Country</td>\n",
       "      <td>i have days where i hate my job this little t...</td>\n",
       "    </tr>\n",
       "    <tr>\n",
       "      <th>1</th>\n",
       "      <td>Pretty Ricky</td>\n",
       "      <td>On The Hotline</td>\n",
       "      <td>Rap</td>\n",
       "      <td>its five in the mornin and im up havin phone ...</td>\n",
       "    </tr>\n",
       "    <tr>\n",
       "      <th>2</th>\n",
       "      <td>Candlemass</td>\n",
       "      <td>Clouds Of Dementia</td>\n",
       "      <td>Rock</td>\n",
       "      <td>jaded and demented in the attic the bonemen so...</td>\n",
       "    </tr>\n",
       "    <tr>\n",
       "      <th>4</th>\n",
       "      <td>Billy Currington</td>\n",
       "      <td>I Got A Feelin'</td>\n",
       "      <td>Country</td>\n",
       "      <td>i dont want to rush this thing i dont want to...</td>\n",
       "    </tr>\n",
       "    <tr>\n",
       "      <th>6</th>\n",
       "      <td>Alan Jackson</td>\n",
       "      <td>Where I Come From</td>\n",
       "      <td>Country</td>\n",
       "      <td>well i was rolling wheels and shifting gears ...</td>\n",
       "    </tr>\n",
       "  </tbody>\n",
       "</table>\n",
       "</div>"
      ],
      "text/plain": [
       "              artist               track cat_numbers  \\\n",
       "0  Montgomery Gentry           Lucky Man     Country   \n",
       "1       Pretty Ricky      On The Hotline         Rap   \n",
       "2         Candlemass  Clouds Of Dementia        Rock   \n",
       "4   Billy Currington     I Got A Feelin'     Country   \n",
       "6       Alan Jackson   Where I Come From     Country   \n",
       "\n",
       "                                              lyrics  \n",
       "0   i have days where i hate my job this little t...  \n",
       "1   its five in the mornin and im up havin phone ...  \n",
       "2  jaded and demented in the attic the bonemen so...  \n",
       "4   i dont want to rush this thing i dont want to...  \n",
       "6   well i was rolling wheels and shifting gears ...  "
      ]
     },
     "metadata": {},
     "execution_count": 6
    }
   ],
   "metadata": {}
  },
  {
   "cell_type": "code",
   "execution_count": 7,
   "source": [
    "from sklearn.feature_extraction.text import TfidfVectorizer\r\n",
    "\r\n",
    "#Create a custom tokenizer so that we can stem or lemmatize words and see how that impacts performance (accuracy)\r\n",
    "def tokenize_with_stem(lyrics):\r\n",
    "    '''Take lyrics and tokenize them with a stem function e.g. PorterStemmer'''\r\n",
    "    #tokenize the lyrics\r\n",
    "    tokenized_lyrics = nltk.word_tokenize(lyrics)\r\n",
    "    \r\n",
    "    #Stem the lyrics after tokenization to get the roots of each token\r\n",
    "    stemmed_lyrics = [PorterStemmer().stem(lyric) for lyric in tokenized_lyrics]\r\n",
    "    return stemmed_lyrics\r\n",
    "\r\n",
    "#Combine stemming and lemming on stopwords to get dictionary def then boil down to stems in effort to reduce redundancy\r\n",
    "\r\n",
    "#Define stopwords via NLTK english corpus for stopwords\r\n",
    "stopwords = set(stopwords.words(\"english\"))\r\n",
    "\r\n",
    "#Stem stops down to their word stems based on root words\r\n",
    "stemmed_stops = [PorterStemmer().stem(word) for word in stopwords]\r\n",
    "\r\n",
    "#get our labels for classes\r\n",
    "labels = df['cat_numbers']"
   ],
   "outputs": [],
   "metadata": {}
  },
  {
   "cell_type": "code",
   "execution_count": 8,
   "source": [
    "#Now that we have fully preprocessed, train test split\r\n",
    "X_train, X_test, Y_train, Y_test = train_test_split(df['lyrics'], labels, \r\n",
    "                                                    test_size=0.2, random_state=42)"
   ],
   "outputs": [],
   "metadata": {}
  },
  {
   "cell_type": "code",
   "execution_count": 9,
   "source": [
    "X_train"
   ],
   "outputs": [
    {
     "output_type": "execute_result",
     "data": {
      "text/plain": [
       "1349    last night we went to bed not talking cause we...\n",
       "1094     man its a hot one like seven inches from the ...\n",
       "837     you always say that i have multiple personalit...\n",
       "1062     alright alright alright alright alright alrig...\n",
       "1196    what is your purpose what is your purpose what...\n",
       "                              ...                        \n",
       "185     lets jump in my el camino  uh huh roll the win...\n",
       "1598    hail satan gentlemen destroy the memories far ...\n",
       "1672     what it is ho whats up whats up can a nigga g...\n",
       "1325     hit it one more time for our men in uniform w...\n",
       "1726    memories of the times you had thats the way yo...\n",
       "Name: lyrics, Length: 902, dtype: object"
      ]
     },
     "metadata": {},
     "execution_count": 9
    }
   ],
   "metadata": {}
  },
  {
   "cell_type": "code",
   "execution_count": 10,
   "source": [
    "#Set up the vectorizer using tfidf\r\n",
    "tfidf = TfidfVectorizer(sublinear_tf=True, min_df=5, norm='l2', \r\n",
    "                        encoding='utf-8', ngram_range=(1, 2), stop_words=stemmed_stops)\r\n",
    "\r\n",
    "#run the vectorizer to get the features to determine classification and put the outcomes in an array\r\n",
    "X_train = tfidf.fit_transform(X_train).toarray()\r\n",
    "\r\n",
    "X_test = tfidf.transform(X_test).toarray()\r\n",
    "\r\n",
    "features = np.concatenate((X_train,X_test))\r\n",
    "\r\n",
    "labels = np.concatenate((Y_train,Y_test))\r\n",
    "\r\n",
    "#Create a list of models to loop through for performance at baseline level\r\n",
    "model_list = [DummyClassifier(strategy=\"stratified\"),\r\n",
    "              LogisticRegression(),RandomForestClassifier(random_state=42),\r\n",
    "              KNeighborsClassifier(n_neighbors=5),LinearSVC(random_state=42)]\r\n",
    "\r\n",
    "#Cross validate 5x\r\n",
    "cv = 5\r\n",
    "\r\n",
    "#Store list of tuples to create df\r\n",
    "tuples = []\r\n",
    "\r\n",
    "#Iterate through models and check for CV\r\n",
    "for m in model_list:\r\n",
    "    cv_acc = np.mean(cross_val_score(m,features,labels))\r\n",
    "    \r\n",
    "    \r\n",
    "    #fit\r\n",
    "    m.fit(X_train,Y_train)\r\n",
    "    \r\n",
    "    #predict\r\n",
    "    train_pred = m.predict(X_train)\r\n",
    "    test_pred = m.predict(X_test)\r\n",
    "    \r\n",
    "    #Accuracy test stored in values\r\n",
    "    test_acc = accuracy_score(test_pred,Y_test)\r\n",
    "    \r\n",
    "    tuples.append((m,test_acc,cv_acc))\r\n",
    "    \r\n",
    "tuples_df = pd.DataFrame(tuples,columns=[\"Model\",\"Test Accuracy\",\"CV Accuracy\"])"
   ],
   "outputs": [],
   "metadata": {}
  },
  {
   "cell_type": "code",
   "execution_count": 11,
   "source": [
    "#Select optimal model\r\n",
    "tuples_df.head()"
   ],
   "outputs": [
    {
     "output_type": "execute_result",
     "data": {
      "text/html": [
       "<div>\n",
       "<style scoped>\n",
       "    .dataframe tbody tr th:only-of-type {\n",
       "        vertical-align: middle;\n",
       "    }\n",
       "\n",
       "    .dataframe tbody tr th {\n",
       "        vertical-align: top;\n",
       "    }\n",
       "\n",
       "    .dataframe thead th {\n",
       "        text-align: right;\n",
       "    }\n",
       "</style>\n",
       "<table border=\"1\" class=\"dataframe\">\n",
       "  <thead>\n",
       "    <tr style=\"text-align: right;\">\n",
       "      <th></th>\n",
       "      <th>Model</th>\n",
       "      <th>Test Accuracy</th>\n",
       "      <th>CV Accuracy</th>\n",
       "    </tr>\n",
       "  </thead>\n",
       "  <tbody>\n",
       "    <tr>\n",
       "      <th>0</th>\n",
       "      <td>DummyClassifier(strategy='stratified')</td>\n",
       "      <td>0.230088</td>\n",
       "      <td>0.205676</td>\n",
       "    </tr>\n",
       "    <tr>\n",
       "      <th>1</th>\n",
       "      <td>LogisticRegression()</td>\n",
       "      <td>0.699115</td>\n",
       "      <td>0.663147</td>\n",
       "    </tr>\n",
       "    <tr>\n",
       "      <th>2</th>\n",
       "      <td>(DecisionTreeClassifier(max_features='auto', r...</td>\n",
       "      <td>0.703540</td>\n",
       "      <td>0.640991</td>\n",
       "    </tr>\n",
       "    <tr>\n",
       "      <th>3</th>\n",
       "      <td>KNeighborsClassifier()</td>\n",
       "      <td>0.349558</td>\n",
       "      <td>0.371390</td>\n",
       "    </tr>\n",
       "    <tr>\n",
       "      <th>4</th>\n",
       "      <td>LinearSVC(random_state=42)</td>\n",
       "      <td>0.699115</td>\n",
       "      <td>0.704783</td>\n",
       "    </tr>\n",
       "  </tbody>\n",
       "</table>\n",
       "</div>"
      ],
      "text/plain": [
       "                                               Model  Test Accuracy  \\\n",
       "0             DummyClassifier(strategy='stratified')       0.230088   \n",
       "1                               LogisticRegression()       0.699115   \n",
       "2  (DecisionTreeClassifier(max_features='auto', r...       0.703540   \n",
       "3                             KNeighborsClassifier()       0.349558   \n",
       "4                         LinearSVC(random_state=42)       0.699115   \n",
       "\n",
       "   CV Accuracy  \n",
       "0     0.205676  \n",
       "1     0.663147  \n",
       "2     0.640991  \n",
       "3     0.371390  \n",
       "4     0.704783  "
      ]
     },
     "metadata": {},
     "execution_count": 11
    }
   ],
   "metadata": {}
  },
  {
   "cell_type": "code",
   "execution_count": 12,
   "source": [
    "#Tune Hyperparameters for LogReg\r\n",
    "c_values = np.logspace(-1,5, 100)\r\n",
    "\r\n",
    "accuracies = []\r\n",
    "#Iterate through C_values\r\n",
    "for c in c_values:\r\n",
    "    \r\n",
    "    #Instantiate\r\n",
    "    logreg_model = LogisticRegression(C=c, max_iter=10000)\r\n",
    "    \r\n",
    "    #fit\r\n",
    "    logreg_model.fit(X_train,Y_train)\r\n",
    "    \r\n",
    "    #predict\r\n",
    "    train_pred = logreg_model.predict(X_train)\r\n",
    "    test_pred = logreg_model.predict(X_test)\r\n",
    "    \r\n",
    "    #Accuracy on train\r\n",
    "    train_acc = accuracy_score(train_pred,Y_train)\r\n",
    "    \r\n",
    "    #Accuracy on test\r\n",
    "    test_acc = accuracy_score(test_pred,Y_test)\r\n",
    "    \r\n",
    "    #Add pairing to list so convert to df to view results\r\n",
    "    accuracies.append((c,train_acc,test_acc))\r\n",
    "\r\n",
    "logreg_results = pd.DataFrame(accuracies, columns=['Regularization Parameter','Train Accuracy','Test_Accuracy'])"
   ],
   "outputs": [],
   "metadata": {}
  },
  {
   "cell_type": "code",
   "execution_count": 13,
   "source": [
    "logreg_results['Test_Accuracy'].max()"
   ],
   "outputs": [
    {
     "output_type": "execute_result",
     "data": {
      "text/plain": [
       "0.7035398230088495"
      ]
     },
     "metadata": {},
     "execution_count": 13
    }
   ],
   "metadata": {}
  },
  {
   "cell_type": "code",
   "execution_count": 14,
   "source": [
    "for col in ['Train Accuracy','Test_Accuracy']:\r\n",
    "    plt.plot(logreg_results['Regularization Parameter'],logreg_results[col],label=col)\r\n",
    "    plt.legend()\r\n",
    "    plt.xscale('log')\r\n",
    "    plt.title('Accuracies Across Regularization Values')\r\n",
    "plt.show()"
   ],
   "outputs": [
    {
     "output_type": "display_data",
     "data": {
      "image/png": "[encoded data removed]",
      "text/plain": [
       "<Figure size 432x288 with 1 Axes>"
      ]
     },
     "metadata": {
      "needs_background": "light"
     }
    }
   ],
   "metadata": {}
  },
  {
   "cell_type": "code",
   "execution_count": 15,
   "source": [
    "#Tune Hyperparameters for SVC\r\n",
    "c_values = np.logspace(-1,5, 100)\r\n",
    "\r\n",
    "accuracies = []\r\n",
    "#Iterate through C_values\r\n",
    "for c in c_values:\r\n",
    "    \r\n",
    "    #Instantiate\r\n",
    "    svc_model = LinearSVC(random_state=42,C=c,max_iter=10000)\r\n",
    "    \r\n",
    "    #fit\r\n",
    "    svc_model.fit(X_train,Y_train)\r\n",
    "    \r\n",
    "    #predict\r\n",
    "    train_pred = svc_model.predict(X_train)\r\n",
    "    test_pred = svc_model.predict(X_test)\r\n",
    "    \r\n",
    "    #Accuracy on train\r\n",
    "    train_acc = accuracy_score(train_pred,Y_train)\r\n",
    "    \r\n",
    "    #Accuracy on test\r\n",
    "    test_acc = accuracy_score(test_pred,Y_test)\r\n",
    "    \r\n",
    "    #Add pairing to list so convert to df to view results\r\n",
    "    accuracies.append((c,train_acc,test_acc))\r\n",
    "\r\n",
    "svc_results = pd.DataFrame(accuracies, columns=['Regularization Parameter','Train Accuracy','Test_Accuracy'])"
   ],
   "outputs": [],
   "metadata": {}
  },
  {
   "cell_type": "code",
   "execution_count": 16,
   "source": [
    "svc_results[svc_results['Test_Accuracy']==svc_results['Test_Accuracy'].max()]"
   ],
   "outputs": [
    {
     "output_type": "execute_result",
     "data": {
      "text/html": [
       "<div>\n",
       "<style scoped>\n",
       "    .dataframe tbody tr th:only-of-type {\n",
       "        vertical-align: middle;\n",
       "    }\n",
       "\n",
       "    .dataframe tbody tr th {\n",
       "        vertical-align: top;\n",
       "    }\n",
       "\n",
       "    .dataframe thead th {\n",
       "        text-align: right;\n",
       "    }\n",
       "</style>\n",
       "<table border=\"1\" class=\"dataframe\">\n",
       "  <thead>\n",
       "    <tr style=\"text-align: right;\">\n",
       "      <th></th>\n",
       "      <th>Regularization Parameter</th>\n",
       "      <th>Train Accuracy</th>\n",
       "      <th>Test_Accuracy</th>\n",
       "    </tr>\n",
       "  </thead>\n",
       "  <tbody>\n",
       "    <tr>\n",
       "      <th>0</th>\n",
       "      <td>0.10000</td>\n",
       "      <td>0.909091</td>\n",
       "      <td>0.707965</td>\n",
       "    </tr>\n",
       "    <tr>\n",
       "      <th>12</th>\n",
       "      <td>0.53367</td>\n",
       "      <td>0.997783</td>\n",
       "      <td>0.707965</td>\n",
       "    </tr>\n",
       "  </tbody>\n",
       "</table>\n",
       "</div>"
      ],
      "text/plain": [
       "    Regularization Parameter  Train Accuracy  Test_Accuracy\n",
       "0                    0.10000        0.909091       0.707965\n",
       "12                   0.53367        0.997783       0.707965"
      ]
     },
     "metadata": {},
     "execution_count": 16
    }
   ],
   "metadata": {}
  },
  {
   "cell_type": "code",
   "execution_count": 17,
   "source": [
    "for col in ['Train Accuracy','Test_Accuracy']:\r\n",
    "    plt.plot(svc_results['Regularization Parameter'],svc_results[col],label=col)\r\n",
    "    plt.legend()\r\n",
    "    plt.xscale('log')\r\n",
    "    plt.title('Accuracies Across Regularization Values')\r\n",
    "plt.show()"
   ],
   "outputs": [
    {
     "output_type": "display_data",
     "data": {
      "image/png": "[encoded data removed]",
      "text/plain": [
       "<Figure size 432x288 with 1 Axes>"
      ]
     },
     "metadata": {
      "needs_background": "light"
     }
    }
   ],
   "metadata": {
    "scrolled": true
   }
  },
  {
   "cell_type": "code",
   "execution_count": 18,
   "source": [
    "#Tune Hyperparameters for KNN\r\n",
    "neighbors = [x for x in range(1,50)]\r\n",
    "\r\n",
    "accuracies = []\r\n",
    "#Iterate through C_values\r\n",
    "for n in neighbors:\r\n",
    "    \r\n",
    "    #Instantiate\r\n",
    "    knn_model = KNeighborsClassifier(n_neighbors=n)\r\n",
    "    \r\n",
    "    #fit\r\n",
    "    knn_model.fit(X_train,Y_train)\r\n",
    "    \r\n",
    "    #predict\r\n",
    "    train_pred = knn_model.predict(X_train)\r\n",
    "    test_pred = knn_model.predict(X_test)\r\n",
    "    \r\n",
    "    #Accuracy on train\r\n",
    "    train_acc = accuracy_score(train_pred,Y_train)\r\n",
    "    \r\n",
    "    #Accuracy on test\r\n",
    "    test_acc = accuracy_score(test_pred,Y_test)\r\n",
    "    \r\n",
    "    #Add pairing to list so convert to df to view results\r\n",
    "    accuracies.append((n,train_acc,test_acc))\r\n",
    "\r\n",
    "knn_results = pd.DataFrame(accuracies, columns=['Regularization Parameter','Train Accuracy','Test_Accuracy'])"
   ],
   "outputs": [],
   "metadata": {}
  },
  {
   "cell_type": "code",
   "execution_count": null,
   "source": [
    "for col in ['Train Accuracy','Test_Accuracy']:\r\n",
    "    plt.plot(knn_results['Regularization Parameter'],knn_results[col],label=col)\r\n",
    "    plt.legend()\r\n",
    "    plt.title('Accuracies Across Regularization Values')\r\n",
    "plt.show()"
   ],
   "outputs": [],
   "metadata": {
    "scrolled": true
   }
  },
  {
   "cell_type": "code",
   "execution_count": null,
   "source": [
    "knn_results['Test_Accuracy'].max()"
   ],
   "outputs": [],
   "metadata": {}
  },
  {
   "cell_type": "code",
   "execution_count": null,
   "source": [
    "#Random Forest cross val by checking out randomsearchCV\r\n",
    "\r\n",
    "accuracies = []\r\n",
    "\r\n",
    "depths = [x for x in range(1,501,5)]\r\n",
    "trees = [x for x in range(1,1001,5)]\r\n",
    "\r\n",
    "param_grid = {\r\n",
    "    'max_depth': depths,\r\n",
    "    'n_estimators': trees}\r\n",
    "\r\n",
    "\r\n",
    "random_forest_model = RandomizedSearchCV(RandomForestClassifier(random_state=42), param_grid, scoring='accuracy',random_state=42)\r\n",
    "\r\n",
    "#Fit \r\n",
    "random_forest_model.fit(X_train,Y_train)\r\n",
    "\r\n",
    "#Predict\r\n",
    "rf_train_preds = random_forest_model.predict(X_train)\r\n",
    "rf_test_preds = random_forest_model.predict(X_test)\r\n",
    "\r\n",
    "#Report Out\r\n",
    "rf_test_acc = accuracy_score(rf_test_preds,Y_test)\r\n",
    "rf_train_acc = accuracy_score(rf_train_preds,Y_train)\r\n",
    "\r\n",
    "accuracies.append((random_forest_model,rf_train_acc,rf_test_acc))\r\n",
    "    \r\n",
    "rf_df = pd.DataFrame(accuracies, columns=['Model','Train Accuracy','Test_Accuracy'])"
   ],
   "outputs": [],
   "metadata": {}
  },
  {
   "cell_type": "code",
   "execution_count": null,
   "source": [
    "rf_df['Test_Accuracy'].max()"
   ],
   "outputs": [],
   "metadata": {}
  },
  {
   "cell_type": "code",
   "execution_count": null,
   "source": [
    "confusion_matrix(rf_test_preds,Y_test)"
   ],
   "outputs": [],
   "metadata": {}
  },
  {
   "cell_type": "code",
   "execution_count": null,
   "source": [
    "#MVP model here\r\n",
    "c_max = 0.151991\r\n",
    "\r\n",
    "model = LinearSVC(random_state=42,C=c_max,max_iter=10000).fit(X_train,Y_train)"
   ],
   "outputs": [],
   "metadata": {}
  },
  {
   "cell_type": "code",
   "execution_count": null,
   "source": [
    "import pickle\r\n",
    "#Pickle the model so it can be sent to production\r\n",
    "pickle.dump (model, open('genre_pred_model.pickle', 'wb'))\r\n",
    "\r\n",
    "#Also pickle the vectorizer since it is needed to process the data\r\n",
    "pickle.dump (tfidf.fit(df['lyrics']),open('vectorizer.pickle', 'wb'))"
   ],
   "outputs": [],
   "metadata": {}
  },
  {
   "cell_type": "code",
   "execution_count": null,
   "source": [],
   "outputs": [],
   "metadata": {}
  }
 ],
 "metadata": {
  "kernelspec": {
   "name": "python3",
   "display_name": "Python 3.8.5 64-bit ('base': conda)"
  },
  "language_info": {
   "codemirror_mode": {
    "name": "ipython",
    "version": 3
   },
   "file_extension": ".py",
   "mimetype": "text/x-python",
   "name": "python",
   "nbconvert_exporter": "python",
   "pygments_lexer": "ipython3",
   "version": "3.8.5"
  },
  "interpreter": {
   "hash": "57ad107dd6ec4f5c02ad07d530189a33bfd42124e6db49c0b23da1b84c59eccb"
  }
 },
 "nbformat": 4,
 "nbformat_minor": 4
}